{
 "cells": [
  {
   "attachments": {},
   "cell_type": "markdown",
   "metadata": {},
   "source": [
    "## Q1. Install the Package"
   ]
  },
  {
   "cell_type": "code",
   "execution_count": 1,
   "metadata": {},
   "outputs": [
    {
     "name": "stdout",
     "output_type": "stream",
     "text": [
      "wandb, version 0.15.3\n"
     ]
    }
   ],
   "source": [
    "! wandb --version"
   ]
  },
  {
   "attachments": {},
   "cell_type": "markdown",
   "metadata": {},
   "source": [
    "## Q2. Download and preprocess the data"
   ]
  },
  {
   "attachments": {},
   "cell_type": "markdown",
   "metadata": {},
   "source": [
    "```shell\n",
    "❯ python preprocess_data.py --raw_data_path=\"../../data/\" --dest_path ./output \\\n",
    "    --wandb_project \"Trip duration\" \\\n",
    "    --wandb_entity \"[redacted]\"\n",
    "wandb: Currently logged in as: [redacted]. Use `wandb login --relogin` to force relogin\n",
    "wandb: Tracking run with wandb version 0.15.3\n",
    "wandb: Run data is saved locally in /home/user/Documents/zoomcamp/mlops/exercises/exercise-02-wandb/wandb/run-20230531_221419-7mkn39ju\n",
    "wandb: Run `wandb offline` to turn off syncing.\n",
    "wandb: Syncing run bumbling-shape-1\n",
    "wandb: ⭐️ View project at https://wandb.ai/[redacted]/Trip%20duration\n",
    "wandb: 🚀 View run at https://wandb.ai/[redacted]/Trip%20duration/runs/7mkn39ju\n",
    "wandb: Adding directory to artifact (./output)... Done. 0.0s\n",
    "wandb: Waiting for W&B process to finish... (success).\n",
    "wandb: 🚀 View run bumbling-shape-1 at: https://wandb.ai/[redacted]/Trip%20duration/runs/7mkn39ju\n",
    "wandb: Synced 5 W&B file(s), 0 media file(s), 6 artifact file(s) and 0 other file(s)\n",
    "wandb: Find logs at: ./wandb/run-20230531_221419-7mkn39ju/logs\n",
    "```\n"
   ]
  },
  {
   "attachments": {},
   "cell_type": "markdown",
   "metadata": {},
   "source": [
    "- File size: 153.7KB"
   ]
  },
  {
   "attachments": {},
   "cell_type": "markdown",
   "metadata": {},
   "source": [
    "## Q3. Train a model with Weights & Biases logging"
   ]
  },
  {
   "attachments": {},
   "cell_type": "markdown",
   "metadata": {},
   "source": [
    "```bash\n",
    "❯ python train.py \\\n",
    "  --wandb_project \"Trip duration\" \\\n",
    "  --wandb_entity \"[redacted]\" \\\n",
    "  --data_artifact \"[redacted]/Trip duration/NYC-Taxi:v0\"\n",
    "wandb: Currently logged in as: [redacted]. Use `wandb login --relogin` to force relogin\n",
    "wandb: Tracking run with wandb version 0.15.3\n",
    "wandb: Run data is saved locally in /home/user/Documents/zoomcamp/mlops/exercises/exercise-02-wandb/wandb/run-20230601_003814-fn5f0npy\n",
    "wandb: Run `wandb offline` to turn off syncing.\n",
    "wandb: Syncing run serene-darkness-2\n",
    "wandb: ⭐️ View project at https://wandb.ai/[redacted]/Trip%20duration\n",
    "wandb: 🚀 View run at https://wandb.ai/[redacted]/Trip%20duration/runs/fn5f0npy\n",
    "wandb:   4 of 4 files downloaded.\n",
    "wandb: Waiting for W&B process to finish... (success).\n",
    "wandb:\n",
    "wandb: Run history:\n",
    "wandb: MSE ▁\n",
    "wandb:\n",
    "wandb: Run summary:\n",
    "wandb: MSE 2.45398\n",
    "wandb:\n",
    "wandb: 🚀 View run serene-darkness-2 at: https://wandb.ai/[redacted]/Trip%20duration/runs/fn5f0npy\n",
    "wandb: Synced 5 W&B file(s), 0 media file(s), 3 artifact file(s) and 0 other file(s)\n",
    "wandb: Find logs at: ./wandb/run-20230601_003814-fn5f0npy/logs\n",
    "\n",
    "```"
   ]
  },
  {
   "attachments": {},
   "cell_type": "markdown",
   "metadata": {},
   "source": [
    "In Weights and biases I got the following table:\n",
    "\n",
    "| Key          | Value |\n",
    "|--------------|-------|\n",
    "| max_depth    | 10    |\n",
    "| random_state | 0     |"
   ]
  },
  {
   "attachments": {},
   "cell_type": "markdown",
   "metadata": {},
   "source": [
    "## Q4. Tune model hyperparameters"
   ]
  },
  {
   "attachments": {},
   "cell_type": "markdown",
   "metadata": {},
   "source": [
    "```shell\n",
    "❯ python sweep.py \\\n",
    "  --wandb_project \"Trip duration\" \\\n",
    "  --wandb_entity \"[redacted]\" \\\n",
    "  --data_artifact \"[redacted]/Trip duration/NYC-Taxi:v0\"\n",
    "Create sweep with ID: vdaqi36o\n",
    "Sweep URL: https://wandb.ai/[redacted]/Trip%20duration/sweeps/vdaqi36o\n",
    "wandb: Agent Starting Run: raqut57f with config:\n",
    "wandb:  max_depth: 12\n",
    "wandb:  min_samples_leaf: 3\n",
    "wandb:  min_samples_split: 2\n",
    "wandb:  n_estimators: 39\n",
    "wandb: Currently logged in as: [redacted]. Use `wandb login --relogin` to force relogin\n",
    "wandb: Tracking run with wandb version 0.15.3\n",
    "wandb: Run data is saved locally in /home/user/Documents/zoomcamp/mlops/exercises/exercise-02-wandb/wandb/run-20230601_005335-raqut57f\n",
    "wandb: Run `wandb offline` to turn off syncing.\n",
    "wandb: Syncing run vivid-sweep-1\n",
    "wandb: ⭐️ View project at https://wandb.ai/[redacted]/Trip%20duration\n",
    "wandb: 🧹 View sweep at https://wandb.ai/[redacted]/Trip%20duration/sweeps/vdaqi36o\n",
    "wandb: 🚀 View run at https://wandb.ai/[redacted]/Trip%20duration/runs/raqut57f\n",
    "wandb:   4 of 4 files downloaded.\n",
    "wandb: Waiting for W&B process to finish... (success).\n",
    "wandb:\n",
    "wandb: Run history:\n",
    "wandb: MSE ▁\n",
    "wandb:\n",
    "wandb: Run summary:\n",
    "wandb: MSE 2.44947\n",
    "wandb:\n",
    "wandb: 🚀 View run vivid-sweep-1 at: https://wandb.ai/[redacted]/Trip%20duration/runs/raqut57f\n",
    "wandb: Synced 5 W&B file(s), 0 media file(s), 1 artifact file(s) and 0 other file(s)\n",
    "wandb: Find logs at: ./wandb/run-20230601_005335-raqut57f/logs\n",
    "wandb: Agent Starting Run: 0ytdjze5 with config:\n",
    "wandb:  max_depth: 20\n",
    "wandb:  min_samples_leaf: 2\n",
    "wandb:  min_samples_split: 3\n",
    "wandb:  n_estimators: 44\n",
    "wandb: Tracking run with wandb version 0.15.3\n",
    "wandb: Run data is saved locally in /home/user/Documents/zoomcamp/mlops/exercises/exercise-02-wandb/wandb/run-20230601_005356-0ytdjze5\n",
    "wandb: Run `wandb offline` to turn off syncing.\n",
    "wandb: Syncing run upbeat-sweep-2\n",
    "wandb: ⭐️ View project at https://wandb.ai/[redacted]/Trip%20duration\n",
    "wandb: 🧹 View sweep at https://wandb.ai/[redacted]/Trip%20duration/sweeps/vdaqi36o\n",
    "wandb: 🚀 View run at https://wandb.ai/[redacted]/Trip%20duration/runs/0ytdjze5\n",
    "wandb:   4 of 4 files downloaded.\n",
    "wandb: Waiting for W&B process to finish... (success).\n",
    "wandb:\n",
    "wandb: Run history:\n",
    "wandb: MSE ▁\n",
    "wandb:\n",
    "wandb: Run summary:\n",
    "wandb: MSE 2.44878\n",
    "wandb:\n",
    "wandb: 🚀 View run upbeat-sweep-2 at: https://wandb.ai/[redacted]/Trip%20duration/runs/0ytdjze5\n",
    "wandb: Synced 5 W&B file(s), 0 media file(s), 1 artifact file(s) and 0 other file(s)\n",
    "wandb: Find logs at: ./wandb/run-20230601_005356-0ytdjze5/logs\n",
    "wandb: Agent Starting Run: vlki3g4s with config:\n",
    "wandb:  max_depth: 17\n",
    "wandb:  min_samples_leaf: 3\n",
    "wandb:  min_samples_split: 4\n",
    "wandb:  n_estimators: 23\n",
    "wandb: Tracking run with wandb version 0.15.3\n",
    "wandb: Run data is saved locally in /home/user/Documents/zoomcamp/mlops/exercises/exercise-02-wandb/wandb/run-20230601_005423-vlki3g4s\n",
    "wandb: Run `wandb offline` to turn off syncing.\n",
    "wandb: Syncing run trim-sweep-3\n",
    "wandb: ⭐️ View project at https://wandb.ai/[redacted]/Trip%20duration\n",
    "wandb: 🧹 View sweep at https://wandb.ai/[redacted]/Trip%20duration/sweeps/vdaqi36o\n",
    "wandb: 🚀 View run at https://wandb.ai/[redacted]/Trip%20duration/runs/vlki3g4s\n",
    "wandb:   4 of 4 files downloaded.\n",
    "wandb: Waiting for W&B process to finish... (success).\n",
    "wandb:\n",
    "wandb: Run history:\n",
    "wandb: MSE ▁\n",
    "wandb:\n",
    "wandb: Run summary:\n",
    "wandb: MSE 2.44791\n",
    "wandb:\n",
    "wandb: 🚀 View run trim-sweep-3 at: https://wandb.ai/[redacted]/Trip%20duration/runs/vlki3g4s\n",
    "wandb: Synced 5 W&B file(s), 0 media file(s), 1 artifact file(s) and 0 other file(s)\n",
    "wandb: Find logs at: ./wandb/run-20230601_005423-vlki3g4s/logs\n",
    "wandb: Agent Starting Run: dgh8u3qe with config:\n",
    "wandb:  max_depth: 5\n",
    "wandb:  min_samples_leaf: 2\n",
    "wandb:  min_samples_split: 5\n",
    "wandb:  n_estimators: 33\n",
    "wandb: Tracking run with wandb version 0.15.3\n",
    "wandb: Run data is saved locally in /home/user/Documents/zoomcamp/mlops/exercises/exercise-02-wandb/wandb/run-20230601_005439-dgh8u3qe\n",
    "wandb: Run `wandb offline` to turn off syncing.\n",
    "wandb: Syncing run resilient-sweep-4\n",
    "wandb: ⭐️ View project at https://wandb.ai/[redacted]/Trip%20duration\n",
    "wandb: 🧹 View sweep at https://wandb.ai/[redacted]/Trip%20duration/sweeps/vdaqi36o\n",
    "wandb: 🚀 View run at https://wandb.ai/[redacted]/Trip%20duration/runs/dgh8u3qe\n",
    "wandb:   4 of 4 files downloaded.\n",
    "wandb: Waiting for W&B process to finish... (success).\n",
    "wandb:\n",
    "wandb: Run history:\n",
    "wandb: MSE ▁\n",
    "wandb:\n",
    "wandb: Run summary:\n",
    "wandb: MSE 2.46105\n",
    "wandb:\n",
    "wandb: 🚀 View run resilient-sweep-4 at: https://wandb.ai/[redacted]/Trip%20duration/runs/dgh8u3qe\n",
    "wandb: Synced 5 W&B file(s), 0 media file(s), 1 artifact file(s) and 0 other file(s)\n",
    "wandb: Find logs at: ./wandb/run-20230601_005439-dgh8u3qe/logs\n",
    "wandb: Agent Starting Run: 0zc5d88e with config:\n",
    "wandb:  max_depth: 18\n",
    "wandb:  min_samples_leaf: 4\n",
    "wandb:  min_samples_split: 4\n",
    "wandb:  n_estimators: 23\n",
    "wandb: Tracking run with wandb version 0.15.3\n",
    "wandb: Run data is saved locally in /home/user/Documents/zoomcamp/mlops/exercises/exercise-02-wandb/wandb/run-20230601_005455-0zc5d88e\n",
    "wandb: Run `wandb offline` to turn off syncing.\n",
    "wandb: Syncing run firm-sweep-5\n",
    "wandb: ⭐️ View project at https://wandb.ai/[redacted]/Trip%20duration\n",
    "wandb: 🧹 View sweep at https://wandb.ai/[redacted]/Trip%20duration/sweeps/vdaqi36o\n",
    "wandb: 🚀 View run at https://wandb.ai/[redacted]/Trip%20duration/runs/0zc5d88e\n",
    "wandb:   4 of 4 files downloaded.\n",
    "wandb: Waiting for W&B process to finish... (success).\n",
    "wandb:\n",
    "wandb: Run history:\n",
    "wandb: MSE ▁\n",
    "wandb:\n",
    "wandb: Run summary:\n",
    "wandb: MSE 2.45208\n",
    "wandb:\n",
    "wandb: 🚀 View run firm-sweep-5 at: https://wandb.ai/[redacted]/Trip%20duration/runs/0zc5d88e\n",
    "wandb: Synced 5 W&B file(s), 0 media file(s), 1 artifact file(s) and 0 other file(s)\n",
    "wandb: Find logs at: ./wandb/run-20230601_005455-0zc5d88e/logs\n",
    "```"
   ]
  },
  {
   "attachments": {},
   "cell_type": "markdown",
   "metadata": {},
   "source": [
    "Most important: min_samples_split"
   ]
  },
  {
   "attachments": {},
   "cell_type": "markdown",
   "metadata": {},
   "source": [
    "## Q5. Link the best model to the model registry"
   ]
  },
  {
   "attachments": {},
   "cell_type": "markdown",
   "metadata": {},
   "source": [
    "Informations available in details:\n",
    "\n",
    "- Versioning v\n",
    "- Metadata v\n",
    "- Aliases v\n",
    "- Metric (MSE) v\n",
    "- Source run v (available in the key `Created By`)\n",
    "- All of these"
   ]
  }
 ],
 "metadata": {
  "kernelspec": {
   "display_name": ".venv",
   "language": "python",
   "name": "python3"
  },
  "language_info": {
   "codemirror_mode": {
    "name": "ipython",
    "version": 3
   },
   "file_extension": ".py",
   "mimetype": "text/x-python",
   "name": "python",
   "nbconvert_exporter": "python",
   "pygments_lexer": "ipython3",
   "version": "3.10.11"
  },
  "orig_nbformat": 4
 },
 "nbformat": 4,
 "nbformat_minor": 2
}
